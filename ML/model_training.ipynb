{
 "cells": [
  {
   "cell_type": "code",
   "execution_count": 4,
   "id": "af0edc68-266a-4f0b-ad05-9464556db1ee",
   "metadata": {},
   "outputs": [],
   "source": [
    "import os\n",
    "import pandas as pd"
   ]
  },
  {
   "cell_type": "code",
   "execution_count": 2,
   "id": "0d8e00c9",
   "metadata": {},
   "outputs": [],
   "source": [
    "\n",
    "# Read the CSV file\n",
    "df = pd.read_csv('food_wastage_data.csv')\n",
    "\n",
    "# Display the dataframe\n",
    "# print(df)\n"
   ]
  },
  {
   "cell_type": "code",
   "execution_count": 5,
   "id": "ab8a1b3b-00f0-44dd-af2e-8fc2f22f8f95",
   "metadata": {},
   "outputs": [
    {
     "name": "stdout",
     "output_type": "stream",
     "text": [
      "Index(['Number of Guests', 'Quantity of Food', 'Wastage Food Amount',\n",
      "       'Type of Food_Baked Goods', 'Type of Food_Dairy Products',\n",
      "       'Type of Food_Fruits', 'Type of Food_Meat', 'Type of Food_Vegetables',\n",
      "       'Event Type_Birthday', 'Event Type_Corporate',\n",
      "       'Event Type_Social Gathering', 'Event Type_Wedding',\n",
      "       'Storage Conditions_Refrigerated',\n",
      "       'Storage Conditions_Room Temperature', 'Purchase History_Occasional',\n",
      "       'Purchase History_Regular', 'Seasonality_All Seasons',\n",
      "       'Seasonality_Summer', 'Seasonality_Winter', 'Preparation Method_Buffet',\n",
      "       'Preparation Method_Finger Food', 'Preparation Method_Sit-down Dinner',\n",
      "       'Geographical Location_Rural', 'Geographical Location_Suburban',\n",
      "       'Geographical Location_Urban', 'Pricing_High', 'Pricing_Low',\n",
      "       'Pricing_Moderate'],\n",
      "      dtype='object')\n"
     ]
    },
    {
     "name": "stderr",
     "output_type": "stream",
     "text": [
      "C:\\Users\\ravig\\AppData\\Local\\Temp\\ipykernel_30496\\896033673.py:8: FutureWarning: Downcasting behavior in `replace` is deprecated and will be removed in a future version. To retain the old behavior, explicitly call `result.infer_objects(copy=False)`. To opt-in to the future behavior, set `pd.set_option('future.no_silent_downcasting', True)`\n",
      "  df_encoded.replace({True: 1, False: 0}, inplace=True)\n"
     ]
    }
   ],
   "source": [
    "# Drop rows with missing values\n",
    "df.dropna(inplace=True)\n",
    "\n",
    "# Encode categorical variables\n",
    "df_encoded = pd.get_dummies(df)\n",
    "\n",
    "# Display the preprocessed dataframe\n",
    "df_encoded.replace({True: 1, False: 0}, inplace=True)\n",
    "\n",
    "print(df_encoded.columns)"
   ]
  },
  {
   "cell_type": "code",
   "execution_count": null,
   "id": "f87d613c",
   "metadata": {},
   "outputs": [],
   "source": [
    "# Split the data into input features (X) and the target variable (y)\n",
    "y = df_encoded[\"Wastage Food Amount\"]\n",
    "X = df_encoded.drop(columns=[\"Wastage Food Amount\"])\n",
    "\n",
    "# Split the data into training and testing sets\n",
    "from sklearn.model_selection import train_test_split\n",
    "\n",
    "X_train, X_test, y_train, y_test = train_test_split(X, y, test_size=0.2, random_state=42)\n",
    "\n",
    "# Choose a machine learning algorithm and create an instance of the model\n",
    "from sklearn.linear_model import LinearRegression\n",
    "\n",
    "model = LinearRegression()\n",
    "\n",
    "# Fit the model to the training data\n",
    "model.fit(X_train, y_train)\n",
    "\n",
    "# Predict the target variable for the test data\n",
    "y_pred = model.predict(X_test)\n",
    "\n",
    "# Evaluate the performance of the model\n",
    "from sklearn.metrics import mean_squared_error, r2_score\n",
    "\n",
    "mse = mean_squared_error(y_test, y_pred)\n",
    "r2 = r2_score(y_test, y_pred)\n",
    "\n",
    "print(\"Mean Squared Error:\", mse)\n",
    "print(\"R-squared:\", r2)"
   ]
  },
  {
   "cell_type": "code",
   "execution_count": null,
   "id": "3ed3fa29",
   "metadata": {},
   "outputs": [],
   "source": [
    "import matplotlib.pyplot as plt\n",
    "\n",
    "# Create a scatter plot of actual vs predicted values\n",
    "plt.scatter(y_test, y_pred)\n",
    "plt.xlabel('Actual Values')\n",
    "plt.ylabel('Predicted Values')\n",
    "plt.title('Actual vs Predicted Values')\n",
    "plt.show()\n"
   ]
  },
  {
   "cell_type": "code",
   "execution_count": null,
   "id": "1f86addc-16a7-494c-ae65-5bce96ab4768",
   "metadata": {},
   "outputs": [],
   "source": [
    "import pickle\n",
    "model_out = open(\"model.pkl\",\"wb\")\n",
    "pickle.dump(model, model_out)\n",
    "model_out.close()"
   ]
  }
 ],
 "metadata": {
  "kernelspec": {
   "display_name": "Python 3 (ipykernel)",
   "language": "python",
   "name": "python3"
  },
  "language_info": {
   "codemirror_mode": {
    "name": "ipython",
    "version": 3
   },
   "file_extension": ".py",
   "mimetype": "text/x-python",
   "name": "python",
   "nbconvert_exporter": "python",
   "pygments_lexer": "ipython3",
   "version": "3.11.3"
  }
 },
 "nbformat": 4,
 "nbformat_minor": 5
}
